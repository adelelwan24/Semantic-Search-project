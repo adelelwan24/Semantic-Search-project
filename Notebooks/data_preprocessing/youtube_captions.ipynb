{
  "nbformat": 4,
  "nbformat_minor": 0,
  "metadata": {
    "colab": {
      "provenance": [],
      "authorship_tag": "ABX9TyOq6PWbwRfEFuZCbejDyyYe",
      "include_colab_link": true
    },
    "kernelspec": {
      "name": "python3",
      "display_name": "Python 3"
    },
    "language_info": {
      "name": "python"
    }
  },
  "cells": [
    {
      "cell_type": "markdown",
      "metadata": {
        "id": "view-in-github",
        "colab_type": "text"
      },
      "source": [
        "<a href=\"https://colab.research.google.com/github/abuelnasr0/Semantic-Search-project/blob/youtube-captions/Notebooks/data_preprocessing/youtube_captions.ipynb\" target=\"_parent\"><img src=\"https://colab.research.google.com/assets/colab-badge.svg\" alt=\"Open In Colab\"/></a>"
      ]
    },
    {
      "cell_type": "markdown",
      "source": [
        "In this notebook, we will get a playlist ID and use the youtube API to get and \n",
        "save the captions of the videos in that playlist"
      ],
      "metadata": {
        "id": "bNHdYjqcj_O9"
      }
    },
    {
      "cell_type": "code",
      "execution_count": null,
      "metadata": {
        "id": "iUXG_UdfBsSq"
      },
      "outputs": [],
      "source": [
        "!pip install youtube_transcript_api"
      ]
    },
    {
      "cell_type": "code",
      "source": [
        "from youtube_transcript_api import YouTubeTranscriptApi\n",
        "import googleapiclient.discovery \n",
        "import numpy as np\n",
        "import time"
      ],
      "metadata": {
        "id": "kKFNJTFSByAf"
      },
      "execution_count": null,
      "outputs": []
    },
    {
      "cell_type": "code",
      "source": [
        "DEVELOPER_KEY = \"\"\n",
        "YOUTUBE_API_SERVICE_NAME = \"\"\n",
        "YOUTUBE_API_VERSION = \"\""
      ],
      "metadata": {
        "id": "xC9ZWS7zCOeb"
      },
      "execution_count": null,
      "outputs": []
    },
    {
      "cell_type": "code",
      "source": [
        "def video_to_captions(video_id):\n",
        "    done = 0\n",
        "    captions = {}\n",
        "    try:\n",
        "        srt = YouTubeTranscriptApi.get_transcript(video_id)\n",
        "        captions[\"video_id\"] = video_id\n",
        "        captions[\"video_captions\"] = srt\n",
        "        done = 1\n",
        "    except:\n",
        "        done = 0\n",
        "        \n",
        "    return [captions] , done \n",
        "    \n",
        "def playlist_to_captions(playlist_id):\n",
        "    \n",
        "    youtube = googleapiclient.discovery.build(YOUTUBE_API_SERVICE_NAME,\n",
        "                    YOUTUBE_API_VERSION,\n",
        "                    developerKey=DEVELOPER_KEY)\n",
        "    \n",
        "    res = youtube.playlistItems().list(part=\"snippet\",\n",
        "                                        playlistId=playlist_id,\n",
        "                                        maxResults=\"50\"\n",
        "                                        ).execute()\n",
        "\n",
        "    nextPageToken = res.get('nextPageToken')\n",
        "    \n",
        "    while ('nextPageToken' in res):\n",
        "        nextPage = youtube.playlistItems().list(\n",
        "        part=\"snippet\",\n",
        "        playlistId=playlist_id,\n",
        "        maxResults=\"50\",\n",
        "        pageToken=nextPageToken\n",
        "        ).execute()\n",
        "        res['items'] = res['items'] + nextPage['items']\n",
        "\n",
        "        if 'nextPageToken' not in nextPage:\n",
        "            res.pop('nextPageToken', None)\n",
        "        else:\n",
        "            nextPageToken = nextPage['nextPageToken']\n",
        "\n",
        "    captions = []\n",
        "    # [{'video_id': 'nfWlot6h_JM', 'video_title': 'title'},  ]\n",
        "\n",
        "    for v in res[\"items\"]:\n",
        "        dic = {}\n",
        "        vid = v['snippet'][\"resourceId\"]['videoId']\n",
        "        dic[\"video_id\"] = vid\n",
        "        caps , done = video_to_captions(vid)        \n",
        "        if(done):\n",
        "            dic[\"video_captions\"] = caps[0][\"video_captions\"]\n",
        "        else:\n",
        "            continue\n",
        "        captions.append(dic)\n",
        "        \n",
        "    return captions"
      ],
      "metadata": {
        "id": "6sTNOYpdCB0d"
      },
      "execution_count": null,
      "outputs": []
    },
    {
      "cell_type": "code",
      "source": [
        "def captions_processing(caps):\n",
        "    for cap in caps:\n",
        "        it = 0 \n",
        "        length = len(cap['video_captions'])\n",
        "        new = []\n",
        "        i = 0\n",
        "        while(i < length): \n",
        "\n",
        "            cap['video_captions'][i]['text'] =  cap['video_captions'][i]['text'].replace(\"\\n\",\" \")\n",
        "\n",
        "            if cap['video_captions'][i][\"text\"][-1] == '.' or cap['video_captions'][i][\"text\"][-1] == \"?\":\n",
        "                dic={}\n",
        "                dic['text'] = cap['video_captions'][it]['text']\n",
        "                dic['start'] = cap['video_captions'][it]['start']\n",
        "                dic['duration'] = cap['video_captions'][it]['duration']\n",
        "                for j in range(it+1,i+1): \n",
        "                    dic['text'] += \" \" + cap['video_captions'][j]['text']\n",
        "                    dic['duration'] += cap['video_captions'][j]['duration']\n",
        "\n",
        "                cap['video_captions'][it] = dic \n",
        "\n",
        "                for j in range(it+1,i+1): \n",
        "                    cap['video_captions'].pop(it+1)\n",
        "\n",
        "\n",
        "                i = it\n",
        "                it +=1\n",
        "                length = len(cap['video_captions'])\n",
        "                if i >= length :\n",
        "                    break\n",
        "            i+=1     \n",
        "    return caps"
      ],
      "metadata": {
        "id": "ojRgRh6FFF1V"
      },
      "execution_count": null,
      "outputs": []
    },
    {
      "cell_type": "code",
      "source": [
        "playlist_id = \"PLUl4u3cNGP619EG1wp0kT-7rDE_Az5TNd\"\n",
        "captions = playlist_to_captions(playlist_id)\n",
        "processed = captions_processing(captions)"
      ],
      "metadata": {
        "id": "CYTTb5TCYoi2"
      },
      "execution_count": null,
      "outputs": []
    },
    {
      "cell_type": "code",
      "source": [
        "playlist_captions = {\n",
        "    \"playlist_id\" : playlist_id,\n",
        "    \"videos\" : processed\n",
        "}"
      ],
      "metadata": {
        "id": "Pw7IbFiYbJna"
      },
      "execution_count": null,
      "outputs": []
    },
    {
      "cell_type": "code",
      "source": [
        "from google.colab import drive\n",
        "drive.mount('/content/drive')"
      ],
      "metadata": {
        "colab": {
          "base_uri": "https://localhost:8080/"
        },
        "id": "d50NyH0meGx9",
        "outputId": "c4ed2f94-d124-49fe-f578-f3f15e3dcc2b"
      },
      "execution_count": null,
      "outputs": [
        {
          "output_type": "stream",
          "name": "stdout",
          "text": [
            "Mounted at /content/drive\n"
          ]
        }
      ]
    },
    {
      "cell_type": "code",
      "source": [
        "import json\n",
        "json_object = json.dumps(playlist_captions, indent=4)\n",
        "with open(f\"/content/drive/MyDrive/Graduation_project/Data/Youtube_captions/Captions/{playlist_id}.json\", \"w\") as outfile:\n",
        "    outfile.write(json_object)"
      ],
      "metadata": {
        "id": "nPyJNlGTbt2S"
      },
      "execution_count": null,
      "outputs": []
    }
  ]
}