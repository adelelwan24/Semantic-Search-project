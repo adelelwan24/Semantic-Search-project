{
  "nbformat": 4,
  "nbformat_minor": 0,
  "metadata": {
    "colab": {
      "provenance": [],
      "gpuType": "T4",
      "authorship_tag": "ABX9TyNZIVm1ih3RXoAkmQY4QeJ8",
      "include_colab_link": true
    },
    "kernelspec": {
      "name": "python3",
      "display_name": "Python 3"
    },
    "language_info": {
      "name": "python"
    },
    "accelerator": "GPU",
    "widgets": {
      "application/vnd.jupyter.widget-state+json": {
        "965f55d5913f4212b37abdce2aeb8e5c": {
          "model_module": "@jupyter-widgets/controls",
          "model_name": "HBoxModel",
          "model_module_version": "1.5.0",
          "state": {
            "_dom_classes": [],
            "_model_module": "@jupyter-widgets/controls",
            "_model_module_version": "1.5.0",
            "_model_name": "HBoxModel",
            "_view_count": null,
            "_view_module": "@jupyter-widgets/controls",
            "_view_module_version": "1.5.0",
            "_view_name": "HBoxView",
            "box_style": "",
            "children": [
              "IPY_MODEL_a0d334d1d870451587f6fae916726281",
              "IPY_MODEL_acb9df3587724e7dbb9464e180115294",
              "IPY_MODEL_b0ff335813f44d84a71a681314608a70"
            ],
            "layout": "IPY_MODEL_8c9e973918a240c090af3eb325543d2c"
          }
        },
        "a0d334d1d870451587f6fae916726281": {
          "model_module": "@jupyter-widgets/controls",
          "model_name": "HTMLModel",
          "model_module_version": "1.5.0",
          "state": {
            "_dom_classes": [],
            "_model_module": "@jupyter-widgets/controls",
            "_model_module_version": "1.5.0",
            "_model_name": "HTMLModel",
            "_view_count": null,
            "_view_module": "@jupyter-widgets/controls",
            "_view_module_version": "1.5.0",
            "_view_name": "HTMLView",
            "description": "",
            "description_tooltip": null,
            "layout": "IPY_MODEL_5afaa9db959848a099705212a55bbf4f",
            "placeholder": "​",
            "style": "IPY_MODEL_f2aa0ec3090848aeb47f8d365129036c",
            "value": "Batches: 100%"
          }
        },
        "acb9df3587724e7dbb9464e180115294": {
          "model_module": "@jupyter-widgets/controls",
          "model_name": "FloatProgressModel",
          "model_module_version": "1.5.0",
          "state": {
            "_dom_classes": [],
            "_model_module": "@jupyter-widgets/controls",
            "_model_module_version": "1.5.0",
            "_model_name": "FloatProgressModel",
            "_view_count": null,
            "_view_module": "@jupyter-widgets/controls",
            "_view_module_version": "1.5.0",
            "_view_name": "ProgressView",
            "bar_style": "success",
            "description": "",
            "description_tooltip": null,
            "layout": "IPY_MODEL_0d2681b4b92b4030afc9c3658877f915",
            "max": 196,
            "min": 0,
            "orientation": "horizontal",
            "style": "IPY_MODEL_ecabe6936d7044fb94f72347609fd4ea",
            "value": 196
          }
        },
        "b0ff335813f44d84a71a681314608a70": {
          "model_module": "@jupyter-widgets/controls",
          "model_name": "HTMLModel",
          "model_module_version": "1.5.0",
          "state": {
            "_dom_classes": [],
            "_model_module": "@jupyter-widgets/controls",
            "_model_module_version": "1.5.0",
            "_model_name": "HTMLModel",
            "_view_count": null,
            "_view_module": "@jupyter-widgets/controls",
            "_view_module_version": "1.5.0",
            "_view_name": "HTMLView",
            "description": "",
            "description_tooltip": null,
            "layout": "IPY_MODEL_ab2d24ef36424a5e9d58da63bea50638",
            "placeholder": "​",
            "style": "IPY_MODEL_13b8f7de1f4a4ff6a81c2ee2252f23c2",
            "value": " 196/196 [20:39&lt;00:00,  1.73s/it]"
          }
        },
        "8c9e973918a240c090af3eb325543d2c": {
          "model_module": "@jupyter-widgets/base",
          "model_name": "LayoutModel",
          "model_module_version": "1.2.0",
          "state": {
            "_model_module": "@jupyter-widgets/base",
            "_model_module_version": "1.2.0",
            "_model_name": "LayoutModel",
            "_view_count": null,
            "_view_module": "@jupyter-widgets/base",
            "_view_module_version": "1.2.0",
            "_view_name": "LayoutView",
            "align_content": null,
            "align_items": null,
            "align_self": null,
            "border": null,
            "bottom": null,
            "display": null,
            "flex": null,
            "flex_flow": null,
            "grid_area": null,
            "grid_auto_columns": null,
            "grid_auto_flow": null,
            "grid_auto_rows": null,
            "grid_column": null,
            "grid_gap": null,
            "grid_row": null,
            "grid_template_areas": null,
            "grid_template_columns": null,
            "grid_template_rows": null,
            "height": null,
            "justify_content": null,
            "justify_items": null,
            "left": null,
            "margin": null,
            "max_height": null,
            "max_width": null,
            "min_height": null,
            "min_width": null,
            "object_fit": null,
            "object_position": null,
            "order": null,
            "overflow": null,
            "overflow_x": null,
            "overflow_y": null,
            "padding": null,
            "right": null,
            "top": null,
            "visibility": null,
            "width": null
          }
        },
        "5afaa9db959848a099705212a55bbf4f": {
          "model_module": "@jupyter-widgets/base",
          "model_name": "LayoutModel",
          "model_module_version": "1.2.0",
          "state": {
            "_model_module": "@jupyter-widgets/base",
            "_model_module_version": "1.2.0",
            "_model_name": "LayoutModel",
            "_view_count": null,
            "_view_module": "@jupyter-widgets/base",
            "_view_module_version": "1.2.0",
            "_view_name": "LayoutView",
            "align_content": null,
            "align_items": null,
            "align_self": null,
            "border": null,
            "bottom": null,
            "display": null,
            "flex": null,
            "flex_flow": null,
            "grid_area": null,
            "grid_auto_columns": null,
            "grid_auto_flow": null,
            "grid_auto_rows": null,
            "grid_column": null,
            "grid_gap": null,
            "grid_row": null,
            "grid_template_areas": null,
            "grid_template_columns": null,
            "grid_template_rows": null,
            "height": null,
            "justify_content": null,
            "justify_items": null,
            "left": null,
            "margin": null,
            "max_height": null,
            "max_width": null,
            "min_height": null,
            "min_width": null,
            "object_fit": null,
            "object_position": null,
            "order": null,
            "overflow": null,
            "overflow_x": null,
            "overflow_y": null,
            "padding": null,
            "right": null,
            "top": null,
            "visibility": null,
            "width": null
          }
        },
        "f2aa0ec3090848aeb47f8d365129036c": {
          "model_module": "@jupyter-widgets/controls",
          "model_name": "DescriptionStyleModel",
          "model_module_version": "1.5.0",
          "state": {
            "_model_module": "@jupyter-widgets/controls",
            "_model_module_version": "1.5.0",
            "_model_name": "DescriptionStyleModel",
            "_view_count": null,
            "_view_module": "@jupyter-widgets/base",
            "_view_module_version": "1.2.0",
            "_view_name": "StyleView",
            "description_width": ""
          }
        },
        "0d2681b4b92b4030afc9c3658877f915": {
          "model_module": "@jupyter-widgets/base",
          "model_name": "LayoutModel",
          "model_module_version": "1.2.0",
          "state": {
            "_model_module": "@jupyter-widgets/base",
            "_model_module_version": "1.2.0",
            "_model_name": "LayoutModel",
            "_view_count": null,
            "_view_module": "@jupyter-widgets/base",
            "_view_module_version": "1.2.0",
            "_view_name": "LayoutView",
            "align_content": null,
            "align_items": null,
            "align_self": null,
            "border": null,
            "bottom": null,
            "display": null,
            "flex": null,
            "flex_flow": null,
            "grid_area": null,
            "grid_auto_columns": null,
            "grid_auto_flow": null,
            "grid_auto_rows": null,
            "grid_column": null,
            "grid_gap": null,
            "grid_row": null,
            "grid_template_areas": null,
            "grid_template_columns": null,
            "grid_template_rows": null,
            "height": null,
            "justify_content": null,
            "justify_items": null,
            "left": null,
            "margin": null,
            "max_height": null,
            "max_width": null,
            "min_height": null,
            "min_width": null,
            "object_fit": null,
            "object_position": null,
            "order": null,
            "overflow": null,
            "overflow_x": null,
            "overflow_y": null,
            "padding": null,
            "right": null,
            "top": null,
            "visibility": null,
            "width": null
          }
        },
        "ecabe6936d7044fb94f72347609fd4ea": {
          "model_module": "@jupyter-widgets/controls",
          "model_name": "ProgressStyleModel",
          "model_module_version": "1.5.0",
          "state": {
            "_model_module": "@jupyter-widgets/controls",
            "_model_module_version": "1.5.0",
            "_model_name": "ProgressStyleModel",
            "_view_count": null,
            "_view_module": "@jupyter-widgets/base",
            "_view_module_version": "1.2.0",
            "_view_name": "StyleView",
            "bar_color": null,
            "description_width": ""
          }
        },
        "ab2d24ef36424a5e9d58da63bea50638": {
          "model_module": "@jupyter-widgets/base",
          "model_name": "LayoutModel",
          "model_module_version": "1.2.0",
          "state": {
            "_model_module": "@jupyter-widgets/base",
            "_model_module_version": "1.2.0",
            "_model_name": "LayoutModel",
            "_view_count": null,
            "_view_module": "@jupyter-widgets/base",
            "_view_module_version": "1.2.0",
            "_view_name": "LayoutView",
            "align_content": null,
            "align_items": null,
            "align_self": null,
            "border": null,
            "bottom": null,
            "display": null,
            "flex": null,
            "flex_flow": null,
            "grid_area": null,
            "grid_auto_columns": null,
            "grid_auto_flow": null,
            "grid_auto_rows": null,
            "grid_column": null,
            "grid_gap": null,
            "grid_row": null,
            "grid_template_areas": null,
            "grid_template_columns": null,
            "grid_template_rows": null,
            "height": null,
            "justify_content": null,
            "justify_items": null,
            "left": null,
            "margin": null,
            "max_height": null,
            "max_width": null,
            "min_height": null,
            "min_width": null,
            "object_fit": null,
            "object_position": null,
            "order": null,
            "overflow": null,
            "overflow_x": null,
            "overflow_y": null,
            "padding": null,
            "right": null,
            "top": null,
            "visibility": null,
            "width": null
          }
        },
        "13b8f7de1f4a4ff6a81c2ee2252f23c2": {
          "model_module": "@jupyter-widgets/controls",
          "model_name": "DescriptionStyleModel",
          "model_module_version": "1.5.0",
          "state": {
            "_model_module": "@jupyter-widgets/controls",
            "_model_module_version": "1.5.0",
            "_model_name": "DescriptionStyleModel",
            "_view_count": null,
            "_view_module": "@jupyter-widgets/base",
            "_view_module_version": "1.2.0",
            "_view_name": "StyleView",
            "description_width": ""
          }
        }
      }
    }
  },
  "cells": [
    {
      "cell_type": "markdown",
      "metadata": {
        "id": "view-in-github",
        "colab_type": "text"
      },
      "source": [
        "<a href=\"https://colab.research.google.com/github/abuelnasr0/Semantic-Search-project/blob/main/Notebooks/vector_database/populate_vdb_with_papers.ipynb\" target=\"_parent\"><img src=\"https://colab.research.google.com/assets/colab-badge.svg\" alt=\"Open In Colab\"/></a>"
      ]
    },
    {
      "cell_type": "code",
      "execution_count": null,
      "metadata": {
        "id": "XTuI1F8hx01B"
      },
      "outputs": [],
      "source": [
        "!pip install grpcio==1.49.1 -q\n",
        "!pip install pymilvus==2.2.11 -q"
      ]
    },
    {
      "cell_type": "code",
      "source": [
        "!pip install sentence_transformers -q"
      ],
      "metadata": {
        "id": "zxrhutlqi4tn"
      },
      "execution_count": null,
      "outputs": []
    },
    {
      "cell_type": "code",
      "source": [
        "uri = \"\"\n",
        "token = \"\""
      ],
      "metadata": {
        "id": "OL0QJ9gVyQWg"
      },
      "execution_count": 3,
      "outputs": []
    },
    {
      "cell_type": "code",
      "source": [
        "from pymilvus import connections, Collection\n",
        "\n",
        "connections.connect(\"default\",\n",
        "                  uri=uri,\n",
        "                  token=token)"
      ],
      "metadata": {
        "id": "l04WNDGwya4W"
      },
      "execution_count": 4,
      "outputs": []
    },
    {
      "cell_type": "code",
      "source": [
        "from google.colab import drive\n",
        "drive.mount('/content/drive')"
      ],
      "metadata": {
        "id": "kF84aVfN3T9A"
      },
      "execution_count": null,
      "outputs": []
    },
    {
      "cell_type": "code",
      "source": [
        "PATH = '/content/drive/MyDrive/Graduation_project/Data/Papers/Arxiv_cleaned/new_data.json'"
      ],
      "metadata": {
        "id": "4os-EIHqzmJU"
      },
      "execution_count": 6,
      "outputs": []
    },
    {
      "cell_type": "code",
      "source": [
        "import json\n",
        "\n",
        "with open(PATH, encoding='utf-8', mode='r') as json_file:\n",
        "  loaded_papers = json.load(json_file)"
      ],
      "metadata": {
        "id": "ArlSRVukz0_k"
      },
      "execution_count": 13,
      "outputs": []
    },
    {
      "cell_type": "code",
      "source": [
        "# take only 50 000 of the papers\n",
        "import random\n",
        "\n",
        "MAX_NUM_PAPERS = 50_000\n",
        "\n",
        "papers = loaded_papers\n",
        "random.shuffle(papers)\n",
        "papers = papers[0:MAX_NUM_PAPERS]"
      ],
      "metadata": {
        "id": "zfMgsP8MIwPv"
      },
      "execution_count": 14,
      "outputs": []
    },
    {
      "cell_type": "code",
      "source": [
        "max_title_chars = 0\n",
        "max_abstract_chars = 0\n",
        "\n",
        "for paper in papers:\n",
        "  max_abstract_chars = max(max_abstract_chars, len(paper['abstract']))\n",
        "  max_title_chars = max(max_title_chars, len(paper['title']))\n",
        "\n",
        "print(\"max title chars = \", max_title_chars)\n",
        "print(\"max abstract chars = \", max_abstract_chars)"
      ],
      "metadata": {
        "id": "DH5WYLfgz1Bj"
      },
      "execution_count": null,
      "outputs": []
    },
    {
      "cell_type": "code",
      "source": [
        "max_id_chars = 0\n",
        "\n",
        "for paper in papers:\n",
        "  max_id_chars = max(max_id_chars, len(paper['id']))\n",
        "\n",
        "print(\"max id chars = \", max_id_chars)"
      ],
      "metadata": {
        "id": "496lntWU08WY"
      },
      "execution_count": null,
      "outputs": []
    },
    {
      "cell_type": "code",
      "source": [
        "papers_ids = []\n",
        "titles = []\n",
        "abstracts = []\n",
        "\n",
        "for paper in papers:\n",
        "  papers_ids.append(paper['id'])\n",
        "  titles.append(paper['title'])\n",
        "  abstracts.append(paper['abstract'])"
      ],
      "metadata": {
        "id": "Ahm-Pp3V3tzK"
      },
      "execution_count": 17,
      "outputs": []
    },
    {
      "cell_type": "code",
      "source": [
        "from sentence_transformers import SentenceTransformer\n",
        "import torch\n",
        "import os\n",
        "model_name = \"/content/drive/MyDrive/Graduation_project/Models/msmarco-bert-base-dot-v5-v2-Titles-wiht_150000_samples\"\n",
        "\n",
        "# model_name = os.getenv('MODEL_NAME', 'msmarco-bert-base-dot-v5')\n",
        "assert model_name, \"The model name is not avilable\"\n",
        "\n",
        "model = SentenceTransformer(model_name)\n",
        "\n",
        "device = torch.device('cuda' if torch.cuda.is_available() else 'cpu')\n",
        "\n",
        "model.to(device)\n",
        "print('After Checking Cude: {}'.format(model.device))"
      ],
      "metadata": {
        "id": "isKFTHUa9jQt"
      },
      "execution_count": null,
      "outputs": []
    },
    {
      "cell_type": "code",
      "source": [
        "embeddings = model.encode(abstracts, batch_size=256)"
      ],
      "metadata": {
        "colab": {
          "base_uri": "https://localhost:8080/",
          "height": 49,
          "referenced_widgets": [
            "965f55d5913f4212b37abdce2aeb8e5c",
            "a0d334d1d870451587f6fae916726281",
            "acb9df3587724e7dbb9464e180115294",
            "b0ff335813f44d84a71a681314608a70",
            "8c9e973918a240c090af3eb325543d2c",
            "5afaa9db959848a099705212a55bbf4f",
            "f2aa0ec3090848aeb47f8d365129036c",
            "0d2681b4b92b4030afc9c3658877f915",
            "ecabe6936d7044fb94f72347609fd4ea",
            "ab2d24ef36424a5e9d58da63bea50638",
            "13b8f7de1f4a4ff6a81c2ee2252f23c2"
          ]
        },
        "id": "8T5x7qmIBN9Q",
        "outputId": "9b993b47-32b7-4224-adaa-68952db2f9c2"
      },
      "execution_count": 19,
      "outputs": [
        {
          "output_type": "display_data",
          "data": {
            "text/plain": [
              "Batches:   0%|          | 0/196 [00:00<?, ?it/s]"
            ],
            "application/vnd.jupyter.widget-view+json": {
              "version_major": 2,
              "version_minor": 0,
              "model_id": "965f55d5913f4212b37abdce2aeb8e5c"
            }
          },
          "metadata": {}
        }
      ]
    },
    {
      "cell_type": "code",
      "source": [
        "embeddings = embeddings.tolist()\n",
        "len(embeddings)"
      ],
      "metadata": {
        "id": "BVNewBC0Bb4o"
      },
      "execution_count": null,
      "outputs": []
    },
    {
      "cell_type": "code",
      "source": [
        "NUM_ROWS = 10_000\n",
        "\n",
        "data = [papers_ids[NUM_ROWS*4:NUM_ROWS*5], embeddings[NUM_ROWS*4:NUM_ROWS*5], titles[NUM_ROWS*4:NUM_ROWS*5], abstracts[NUM_ROWS*4:NUM_ROWS*5]]\n",
        "papers_collection = Collection(\"research_papers\")\n",
        "papers_collection.load()\n",
        "papers_collection.insert(data)\n",
        "papers_collection.flush()\n",
        "print(papers_collection.num_entities)"
      ],
      "metadata": {
        "id": "sJj6uEB8BchX"
      },
      "execution_count": null,
      "outputs": []
    },
    {
      "cell_type": "code",
      "source": [
        "# Search test\n",
        "query = \"machine learning\"\n",
        "query_embedding = model.encode(query)\n",
        "query_E = query_embedding.tolist()\n",
        "top_k = 15\n",
        "\n",
        "search_params = {\"metric_type\": \"IP\"}\n",
        "\n",
        "papers_collection = Collection(\"research_papers\")\n",
        "papers_collection.load()\n",
        "\n",
        "\n",
        "results = papers_collection.search(\n",
        "    data = [query_E],\n",
        "    anns_field = \"embedding\",\n",
        "    param = search_params,\n",
        "    output_fields=['paper_id', 'title', 'abstract'],\n",
        "    limit = top_k\n",
        ")\n",
        "\n",
        "# print(results[0].distances)\n",
        "\n",
        "\n",
        "print(results)"
      ],
      "metadata": {
        "id": "JDFoBDLwSong"
      },
      "execution_count": null,
      "outputs": []
    },
    {
      "cell_type": "code",
      "source": [
        "results = results[0]\n",
        "ret = []\n",
        "\n",
        "for match in results:\n",
        "    data = {}\n",
        "    data['id'] = match.id\n",
        "    for key in match.entity.fields:\n",
        "        data[key] = match.entity.get(key)\n",
        "    ret.append(data)\n",
        "for r in ret:\n",
        "  print(r)"
      ],
      "metadata": {
        "id": "eMp0ikcES5lb"
      },
      "execution_count": null,
      "outputs": []
    }
  ]
}