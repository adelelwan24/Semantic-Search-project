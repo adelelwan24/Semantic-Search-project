{
  "nbformat": 4,
  "nbformat_minor": 0,
  "metadata": {
    "colab": {
      "provenance": [],
      "authorship_tag": "ABX9TyMlzgoYMlPPGDiEPjCjwNm3",
      "include_colab_link": true
    },
    "kernelspec": {
      "name": "python3",
      "display_name": "Python 3"
    },
    "language_info": {
      "name": "python"
    },
    "accelerator": "GPU",
    "gpuClass": "standard"
  },
  "cells": [
    {
      "cell_type": "markdown",
      "metadata": {
        "id": "view-in-github",
        "colab_type": "text"
      },
      "source": [
        "<a href=\"https://colab.research.google.com/github/abuelnasr0/Semantic-Search-project/blob/populate_vectorDB/Notebooks/vector_database/populate_vdb_with_captions.ipynb\" target=\"_parent\"><img src=\"https://colab.research.google.com/assets/colab-badge.svg\" alt=\"Open In Colab\"/></a>"
      ]
    },
    {
      "cell_type": "code",
      "execution_count": null,
      "metadata": {
        "id": "XTuI1F8hx01B"
      },
      "outputs": [],
      "source": [
        "!pip install grpcio==1.49.1\n",
        "!pip install pymilvus==2.2.8"
      ]
    },
    {
      "cell_type": "code",
      "source": [
        "!pip install sentence_transformers\n",
        "!pip install torch"
      ],
      "metadata": {
        "id": "ANrJvOab5Mb3"
      },
      "execution_count": null,
      "outputs": []
    },
    {
      "cell_type": "code",
      "source": [
        "uri = \"\"\n",
        "user = \"\"\n",
        "password = \"\""
      ],
      "metadata": {
        "id": "OL0QJ9gVyQWg"
      },
      "execution_count": 41,
      "outputs": []
    },
    {
      "cell_type": "code",
      "source": [
        "from pymilvus import connections, Collection\n",
        "\n",
        "connections.connect(\n",
        "  alias=\"default\", \n",
        "  uri=uri, \n",
        "  secure=True,\n",
        "  user=user, \n",
        "  password=password\n",
        ")"
      ],
      "metadata": {
        "id": "l04WNDGwya4W"
      },
      "execution_count": 42,
      "outputs": []
    },
    {
      "cell_type": "code",
      "source": [
        "from google.colab import drive\n",
        "drive.mount('/content/drive')"
      ],
      "metadata": {
        "id": "kF84aVfN3T9A",
        "colab": {
          "base_uri": "https://localhost:8080/"
        },
        "outputId": "97efa666-060d-44bb-a597-b7de56a3da36"
      },
      "execution_count": 6,
      "outputs": [
        {
          "output_type": "stream",
          "name": "stdout",
          "text": [
            "Mounted at /content/drive\n"
          ]
        }
      ]
    },
    {
      "cell_type": "code",
      "source": [
        "import json\n",
        "with open('/content/drive/MyDrive/Graduation_project/Data/Youtube_captions/Captions_with_stride/PLUl4u3cNGP619EG1wp0kT-7rDE_Az5TNd.json') as json_file:\n",
        "    playlist_captions = json.load(json_file)\n",
        "playlist_videos = playlist_captions['videos']"
      ],
      "metadata": {
        "id": "7RfsTrNC3T_w"
      },
      "execution_count": 7,
      "outputs": []
    },
    {
      "cell_type": "code",
      "source": [
        "from sentence_transformers import SentenceTransformer\n",
        "import torch\n",
        "\n",
        "model_name = 'sentence-transformers/msmarco-bert-base-dot-v5'\n",
        "model = SentenceTransformer(model_name)\n",
        "\n",
        "device = torch.device('cuda' if torch.cuda.is_available() else 'cpu')\n",
        "model.to(device)"
      ],
      "metadata": {
        "id": "8ZyzpgPN4sui"
      },
      "execution_count": null,
      "outputs": []
    },
    {
      "cell_type": "code",
      "source": [
        "id = 0\n",
        "\n",
        "ids = []\n",
        "videos_ids = []\n",
        "embeddings = []\n",
        "start_times = []\n",
        "texts = []\n",
        "\n",
        "for videos in playlist_videos:\n",
        "  video_id = videos['video_id']\n",
        "  for caption in videos['video_captions'] :\n",
        "    ids.append(id)\n",
        "    id+=1\n",
        "    embeddings.append(model.encode(caption[\"text\"]).tolist())\n",
        "    videos_ids.append(video_id)\n",
        "    start_times.append(caption[\"start\"])\n",
        "    texts.append(caption[\"text\"])\n",
        "\n",
        "data = [ids, videos_ids, embeddings, start_times, texts]\n"
      ],
      "metadata": {
        "id": "5TGbBEtR-89d"
      },
      "execution_count": 43,
      "outputs": []
    },
    {
      "cell_type": "code",
      "source": [
        "videos_collection = Collection(\"youtube_videos\")     \n",
        "videos_collection.load()\n",
        "videos_collection.insert(data)\n",
        "videos_collection.flush()\n",
        "print(str(videos_collection.num_entities))"
      ],
      "metadata": {
        "id": "MFUngeEH6ZCW",
        "colab": {
          "base_uri": "https://localhost:8080/"
        },
        "outputId": "accb6038-bb75-4b3f-8d7b-56e16da567c3"
      },
      "execution_count": 45,
      "outputs": [
        {
          "output_type": "stream",
          "name": "stdout",
          "text": [
            "1414\n"
          ]
        }
      ]
    },
    {
      "cell_type": "code",
      "source": [
        "# Search test \n",
        "query = \"machine learning\"\n",
        "query_embedding = model.encode(query)\n",
        "query_E = query_embedding.tolist()\n",
        "top_k = 15 \n",
        "\n",
        "search_params = {\"metric_type\": \"IP\"}\n",
        "\n",
        "\n",
        "\n",
        "results = videos_collection.search(\n",
        "    data = [query_E],\n",
        "    anns_field = \"embedding\",\n",
        "    param = search_params,\n",
        "    output_fields=['text', 'start_time', 'video_id'],\n",
        "    limit = top_k\n",
        ")\n",
        "\n",
        "# print(results[0].distances)\n",
        "\n",
        "\n",
        "print(results[0][0].entity.get(\"text\"))"
      ],
      "metadata": {
        "colab": {
          "base_uri": "https://localhost:8080/"
        },
        "id": "Tiogh_I7I42f",
        "outputId": "b3f598dd-51fe-4538-8079-5c7f49200696"
      },
      "execution_count": 104,
      "outputs": [
        {
          "output_type": "stream",
          "name": "stdout",
          "text": [
            "Now it's been a problem in AI for a very long time.It's from a gentleman named Art Samuel. 1959 is the quote in which he says, his definition of machine learning is the field of study that gives computers the ability to learn without being explicitly programmed. And I think many people would argue, he wrote the first such program. It learned from experience. \n"
          ]
        }
      ]
    }
  ]
}