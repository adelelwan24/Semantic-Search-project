{
  "cells": [
    {
      "attachments": {},
      "cell_type": "markdown",
      "metadata": {},
      "source": [
        "<h5>link to colab</h5>\n",
        "https://colab.research.google.com/drive/1-kd34Ecsnj4z36P6nU04PeNORkDMJ9O9#scrollTo=jQ-yeJPNEfi8"
      ]
    },
    {
      "cell_type": "code",
      "execution_count": null,
      "metadata": {
        "id": "jQ-yeJPNEfi8"
      },
      "outputs": [],
      "source": [
        "!pip install grpcio>=1.49.1\n",
        "!pip install pymilvus==2.2.8"
      ]
    },
    {
      "cell_type": "code",
      "execution_count": null,
      "metadata": {
        "id": "oHLBMwttP5-e"
      },
      "outputs": [],
      "source": [
        "uri = \"\"\n",
        "user = \"\"\n",
        "password = \"\""
      ]
    },
    {
      "cell_type": "code",
      "execution_count": 3,
      "metadata": {
        "id": "JJO4eTkMECy-"
      },
      "outputs": [],
      "source": [
        "from pymilvus import connections\n",
        "\n",
        "connections.connect(\n",
        "  alias=\"default\", \n",
        "  uri=uri, \n",
        "  secure=True,\n",
        "  user=user, \n",
        "  password=password\n",
        ")"
      ]
    },
    {
      "cell_type": "code",
      "execution_count": 10,
      "metadata": {
        "colab": {
          "base_uri": "https://localhost:8080/"
        },
        "id": "m14nKiqjEOaR",
        "outputId": "b1ef7628-2d9d-4ce9-823f-ab2f3bc5cc81"
      },
      "outputs": [
        {
          "data": {
            "text/plain": [
              "Status(code=0, message=)"
            ]
          },
          "execution_count": 10,
          "metadata": {},
          "output_type": "execute_result"
        }
      ],
      "source": [
        "from pymilvus import FieldSchema, CollectionSchema, DataType, Collection\n",
        "\n",
        "\"\"\"\n",
        "A collection for youtube videos:\n",
        "fields : (video_id, start_time, text, embedding)\n",
        "\"\"\"\n",
        "# Define the fields in the collection first.\n",
        "youtube_fields = [\n",
        "    FieldSchema(name=\"id\", dtype=DataType.INT64, is_primary=True),\n",
        "    FieldSchema(name=\"video_id\", dtype=DataType.VARCHAR, max_length=128),   \n",
        "    FieldSchema(name=\"embedding\", dtype=DataType.FLOAT_VECTOR, dim=768),\n",
        "    FieldSchema(name=\"start_time\", dtype=DataType.VARCHAR, max_length=8),\n",
        "    FieldSchema(name=\"text\", dtype=DataType.VARCHAR, max_length=512), \n",
        "]\n",
        "\n",
        "# Build the schema\n",
        "youtube_schema = CollectionSchema(\n",
        "    youtube_fields,\n",
        "    description=\"Schema of Youtube videos\"\n",
        ")\n",
        "\n",
        "# Reference the fields in the collection to be created as the schema.\n",
        "youtube_collection = Collection(\n",
        "    name=\"youtube_videos\", \n",
        "    description=\"The captions of the youtube videos\",\n",
        "    schema=youtube_schema\n",
        ")\n",
        "\n",
        "\"\"\"\n",
        "A collection for research Papers:\n",
        "fields : (paper_id, title, abstract, embedding)\n",
        "\"\"\"\n",
        "\n",
        "papers_fields = [\n",
        "    FieldSchema(name=\"paper_id\", dtype=DataType.INT64, is_primary=True),\n",
        "    FieldSchema(name=\"embedding\", dtype=DataType.FLOAT_VECTOR, dim=768),\n",
        "    FieldSchema(name=\"title\", dtype=DataType.VARCHAR, max_length=128),\n",
        "    FieldSchema(name=\"abstract\", dtype=DataType.VARCHAR, max_length=1024), \n",
        "]\n",
        "\n",
        "papers_schema = CollectionSchema(\n",
        "    papers_fields,\n",
        "    description=\"Schema of research papers\"\n",
        ")\n",
        "\n",
        "papers_collection = Collection(\n",
        "    name=\"research_papers\", \n",
        "    description=\"The title and abastrat of research papers\",\n",
        "    schema=papers_schema\n",
        ")\n",
        "\n",
        "\"\"\"\n",
        "Create index over the embeddings to search with them\n",
        "\"\"\"\n",
        "index_params = {\n",
        "    'index_type': 'AUTOINDEX',\n",
        "    'metric_type': 'IP',\n",
        "    'params': {}\n",
        "}\n",
        "\n",
        "youtube_collection.create_index(\"embedding\", index_params)\n",
        "papers_collection.create_index(\"embedding\", index_params)\n"
      ]
    }
  ],
  "metadata": {
    "colab": {
      "provenance": []
    },
    "kernelspec": {
      "display_name": "Python 3",
      "name": "python3"
    },
    "language_info": {
      "name": "python"
    }
  },
  "nbformat": 4,
  "nbformat_minor": 0
}
